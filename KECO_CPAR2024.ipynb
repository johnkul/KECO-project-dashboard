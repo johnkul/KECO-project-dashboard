{
 "cells": [
  {
   "cell_type": "code",
   "execution_count": null,
   "id": "6af173fa-8450-4b89-b3f1-0b6affe63406",
   "metadata": {},
   "outputs": [
    {
     "name": "stderr",
     "output_type": "stream",
     "text": [
      "2025-03-16 17:04:31.877 \n",
      "  \u001b[33m\u001b[1mWarning:\u001b[0m to view this Streamlit app on a browser, run it with the following\n",
      "  command:\n",
      "\n",
      "    streamlit run C:\\Users\\John.Kul\\AppData\\Local\\anaconda3\\Lib\\site-packages\\ipykernel_launcher.py [ARGUMENTS]\n"
     ]
    }
   ],
   "source": [
    "import streamlit as st\n",
    "import pandas as pd\n",
    "import plotly.express as px\n",
    "\n",
    "# Load Data\n",
    "file_path = \"Kenya_Country-wise Results Report-final.xlsx\"\n",
    "df = pd.read_excel(file_path, sheet_name=\"Kenya_Country-wise Results Repo\")\n",
    "\n",
    "# Clean column names\n",
    "df.columns = df.columns.str.strip().str.replace(\" \", \"_\")\n",
    "\n",
    "# Convert numerical columns\n",
    "df[\"Female_Result\"] = pd.to_numeric(df[\"Female_Result\"], errors=\"coerce\").fillna(0).astype(int)\n",
    "df[\"Male_Result\"] = pd.to_numeric(df[\"Male_Result\"], errors=\"coerce\").fillna(0).astype(int)\n",
    "df[\"Total_Result\"] = df[\"Female_Result\"] + df[\"Male_Result\"]\n",
    "\n",
    "# Sidebar Filters\n",
    "st.sidebar.header(\"Filters\")\n",
    "selected_indicator = st.sidebar.selectbox(\"Select Indicator\", df[\"Indicator_Definition\"].unique())\n",
    "selected_projects = st.sidebar.multiselect(\"Select Projects\", df[\"Project_Number\"].unique(), default=df[\"Project_Number\"].unique()[:5])\n",
    "\n",
    "# Filter Data\n",
    "df_filtered = df[df[\"Indicator_Definition\"] == selected_indicator]\n",
    "if selected_projects:\n",
    "    df_filtered = df_filtered[df_filtered[\"Project_Number\"].isin(selected_projects)]\n",
    "\n",
    "# Title\n",
    "st.title(\"📊 Kenya Project Results Dashboard\")\n",
    "st.subheader(f\"Indicator: {selected_indicator}\")\n",
    "\n",
    "# Bar Chart - Total Beneficiaries per Project\n",
    "fig_bar = px.bar(df_filtered, x=\"Project_Number\", y=\"Total_Result\", color=\"Project_Number\", title=\"Total Beneficiaries per Project\")\n",
    "st.plotly_chart(fig_bar)\n",
    "\n",
    "# Pie Chart - Gender Distribution\n",
    "gender_data = df_filtered[[\"Female_Result\", \"Male_Result\"]].sum().reset_index()\n",
    "gender_data.columns = [\"Gender\", \"Count\"]\n",
    "fig_pie = px.pie(gender_data, names=\"Gender\", values=\"Count\", title=\"Gender Distribution\")\n",
    "st.plotly_chart(fig_pie)\n",
    "\n",
    "# Table - Top Projects by Beneficiaries\n",
    "st.subheader(\"🏆 Top Projects by Total Beneficiaries\")\n",
    "st.dataframe(df_filtered.sort_values(by=\"Total_Result\", ascending=False).head(10))"
   ]
  },
  {
   "cell_type": "code",
   "execution_count": null,
   "id": "4bddd3f3-bd94-4862-b0d1-ebf7fd014772",
   "metadata": {},
   "outputs": [],
   "source": []
  }
 ],
 "metadata": {
  "kernelspec": {
   "display_name": "Python 3 (ipykernel)",
   "language": "python",
   "name": "python3"
  },
  "language_info": {
   "codemirror_mode": {
    "name": "ipython",
    "version": 3
   },
   "file_extension": ".py",
   "mimetype": "text/x-python",
   "name": "python",
   "nbconvert_exporter": "python",
   "pygments_lexer": "ipython3",
   "version": "3.11.7"
  }
 },
 "nbformat": 4,
 "nbformat_minor": 5
}
